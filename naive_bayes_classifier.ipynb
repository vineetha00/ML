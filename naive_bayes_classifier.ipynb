{
 "cells": [
  {
   "cell_type": "code",
   "execution_count": 69,
   "metadata": {},
   "outputs": [],
   "source": [
    "sentences = {'python is a great programming language !',\n",
    "             'I love learning programming in python',\n",
    "             'data science and python are related'}"
   ]
  },
  {
   "cell_type": "code",
   "execution_count": 12,
   "metadata": {},
   "outputs": [],
   "source": [
    "from sklearn.feature_extraction.text import TfidfVectorizer\n",
    "\n",
    "vectorizer = TfidfVectorizer()\n",
    "X = vectorizer.fit_transform(sentences) #only gets unique words from the sentences"
   ]
  },
  {
   "cell_type": "code",
   "execution_count": 13,
   "metadata": {},
   "outputs": [
    {
     "name": "stdout",
     "output_type": "stream",
     "text": [
      "<Compressed Sparse Row sparse matrix of dtype 'float64'\n",
      "\twith 16 stored elements and shape (3, 13)>\n",
      "  Coords\tValues\n",
      "  (0, 2)\t0.4323850887896905\n",
      "  (0, 12)\t0.4323850887896905\n",
      "  (0, 0)\t0.4323850887896905\n",
      "  (0, 10)\t0.25537359879528915\n",
      "  (0, 1)\t0.4323850887896905\n",
      "  (0, 11)\t0.4323850887896905\n",
      "  (1, 10)\t0.2980315863446099\n",
      "  (1, 8)\t0.5046113401371842\n",
      "  (1, 7)\t0.5046113401371842\n",
      "  (1, 9)\t0.3837699307603192\n",
      "  (1, 4)\t0.5046113401371842\n",
      "  (2, 10)\t0.2980315863446099\n",
      "  (2, 9)\t0.3837699307603192\n",
      "  (2, 5)\t0.5046113401371842\n",
      "  (2, 3)\t0.5046113401371842\n",
      "  (2, 6)\t0.5046113401371842\n"
     ]
    }
   ],
   "source": [
    "print(X)"
   ]
  },
  {
   "cell_type": "code",
   "execution_count": 18,
   "metadata": {},
   "outputs": [
    {
     "data": {
      "text/plain": [
       "array([[0.43238509, 0.43238509, 0.43238509, 0.        , 0.        ,\n",
       "        0.        , 0.        , 0.        , 0.        , 0.        ,\n",
       "        0.2553736 , 0.43238509, 0.43238509],\n",
       "       [0.        , 0.        , 0.        , 0.        , 0.50461134,\n",
       "        0.        , 0.        , 0.50461134, 0.50461134, 0.38376993,\n",
       "        0.29803159, 0.        , 0.        ],\n",
       "       [0.        , 0.        , 0.        , 0.50461134, 0.        ,\n",
       "        0.50461134, 0.50461134, 0.        , 0.        , 0.38376993,\n",
       "        0.29803159, 0.        , 0.        ]])"
      ]
     },
     "execution_count": 18,
     "metadata": {},
     "output_type": "execute_result"
    }
   ],
   "source": [
    "tfid_matrix = X.toarray() # sentences vs words after applying tf*idf formula\n",
    "tfid_matrix"
   ]
  },
  {
   "cell_type": "code",
   "execution_count": 29,
   "metadata": {},
   "outputs": [],
   "source": [
    "feature=vectorizer.get_feature_names_out() #prints unique terms \n",
    "# each word becomes a feature(col)"
   ]
  },
  {
   "cell_type": "code",
   "execution_count": 31,
   "metadata": {},
   "outputs": [
    {
     "name": "stdout",
     "output_type": "stream",
     "text": [
      "sentence 1: data science and python are related\n",
      "TF-IDF scores are\n",
      "and:0.4323850887896905\n",
      "are:0.4323850887896905\n",
      "data:0.4323850887896905\n",
      "great:0.0\n",
      "in:0.0\n",
      "is:0.0\n",
      "language:0.0\n",
      "learning:0.0\n",
      "love:0.0\n",
      "programming:0.0\n",
      "python:0.25537359879528915\n",
      "related:0.4323850887896905\n",
      "science:0.4323850887896905\n",
      "\n",
      "\n",
      "sentence 2: I love learning programming in python\n",
      "TF-IDF scores are\n",
      "and:0.0\n",
      "are:0.0\n",
      "data:0.0\n",
      "great:0.0\n",
      "in:0.5046113401371842\n",
      "is:0.0\n",
      "language:0.0\n",
      "learning:0.5046113401371842\n",
      "love:0.5046113401371842\n",
      "programming:0.3837699307603192\n",
      "python:0.2980315863446099\n",
      "related:0.0\n",
      "science:0.0\n",
      "\n",
      "\n",
      "sentence 3: python is a great programming language\n",
      "TF-IDF scores are\n",
      "and:0.0\n",
      "are:0.0\n",
      "data:0.0\n",
      "great:0.5046113401371842\n",
      "in:0.0\n",
      "is:0.5046113401371842\n",
      "language:0.5046113401371842\n",
      "learning:0.0\n",
      "love:0.0\n",
      "programming:0.3837699307603192\n",
      "python:0.2980315863446099\n",
      "related:0.0\n",
      "science:0.0\n",
      "\n",
      "\n"
     ]
    }
   ],
   "source": [
    "for i, sentence in enumerate(sentences):\n",
    "    print(f'sentence {i+1}: {sentence}')\n",
    "    print('TF-IDF scores are')\n",
    "    for word,score in zip(feature,tfid_matrix[i]):\n",
    "        print(f'{word}:{score}')\n",
    "    print('\\n')"
   ]
  },
  {
   "cell_type": "code",
   "execution_count": 71,
   "metadata": {},
   "outputs": [],
   "source": [
    "sentences = list(sentences)\n",
    "\n",
    "for i in range(len(sentences)):\n",
    "    sentences[i] = sentences[i].lower()"
   ]
  },
  {
   "cell_type": "code",
   "execution_count": 72,
   "metadata": {},
   "outputs": [
    {
     "data": {
      "text/plain": [
       "['data science and python are related',\n",
       " 'python is a great programming language !',\n",
       " 'i love learning programming in python']"
      ]
     },
     "execution_count": 72,
     "metadata": {},
     "output_type": "execute_result"
    }
   ],
   "source": [
    "sentences"
   ]
  },
  {
   "cell_type": "code",
   "execution_count": 68,
   "metadata": {},
   "outputs": [],
   "source": [
    "import nltk"
   ]
  },
  {
   "cell_type": "code",
   "execution_count": 84,
   "metadata": {},
   "outputs": [
    {
     "name": "stdout",
     "output_type": "stream",
     "text": [
      "['data', 'science', 'and', 'python', 'are', 'related', 'python', 'is', 'a', 'great', 'programming', 'language', 'i', 'love', 'learning', 'programming', 'in', 'python']\n"
     ]
    }
   ],
   "source": [
    "from nltk.tokenize import RegexpTokenizer\n",
    "\n",
    "tokenizer = RegexpTokenizer(r'\\w+')\n",
    "a = []\n",
    "for i in sentences:\n",
    "    tokens = tokenizer.tokenize(i)\n",
    "    a.extend(tokens)\n",
    "print(a)"
   ]
  },
  {
   "cell_type": "code",
   "execution_count": 41,
   "metadata": {},
   "outputs": [
    {
     "name": "stderr",
     "output_type": "stream",
     "text": [
      "[nltk_data] Downloading package stopwords to\n",
      "[nltk_data]     C:\\Users\\Dell\\AppData\\Roaming\\nltk_data...\n",
      "[nltk_data]   Unzipping corpora\\stopwords.zip.\n"
     ]
    },
    {
     "data": {
      "text/plain": [
       "True"
      ]
     },
     "execution_count": 41,
     "metadata": {},
     "output_type": "execute_result"
    }
   ],
   "source": [
    "from nltk.corpus import stopwords\n",
    "nltk.download('stopwords')"
   ]
  },
  {
   "cell_type": "code",
   "execution_count": 43,
   "metadata": {},
   "outputs": [],
   "source": [
    "from nltk.corpus import stopwords\n",
    "nltk.download('stopwords')"
   ]
  },
  {
   "cell_type": "code",
   "execution_count": 44,
   "metadata": {},
   "outputs": [
    {
     "data": {
      "text/plain": [
       "{'a',\n",
       " 'about',\n",
       " 'above',\n",
       " 'after',\n",
       " 'again',\n",
       " 'against',\n",
       " 'ain',\n",
       " 'all',\n",
       " 'am',\n",
       " 'an',\n",
       " 'and',\n",
       " 'any',\n",
       " 'are',\n",
       " 'aren',\n",
       " \"aren't\",\n",
       " 'as',\n",
       " 'at',\n",
       " 'be',\n",
       " 'because',\n",
       " 'been',\n",
       " 'before',\n",
       " 'being',\n",
       " 'below',\n",
       " 'between',\n",
       " 'both',\n",
       " 'but',\n",
       " 'by',\n",
       " 'can',\n",
       " 'couldn',\n",
       " \"couldn't\",\n",
       " 'd',\n",
       " 'did',\n",
       " 'didn',\n",
       " \"didn't\",\n",
       " 'do',\n",
       " 'does',\n",
       " 'doesn',\n",
       " \"doesn't\",\n",
       " 'doing',\n",
       " 'don',\n",
       " \"don't\",\n",
       " 'down',\n",
       " 'during',\n",
       " 'each',\n",
       " 'few',\n",
       " 'for',\n",
       " 'from',\n",
       " 'further',\n",
       " 'had',\n",
       " 'hadn',\n",
       " \"hadn't\",\n",
       " 'has',\n",
       " 'hasn',\n",
       " \"hasn't\",\n",
       " 'have',\n",
       " 'haven',\n",
       " \"haven't\",\n",
       " 'having',\n",
       " 'he',\n",
       " 'her',\n",
       " 'here',\n",
       " 'hers',\n",
       " 'herself',\n",
       " 'him',\n",
       " 'himself',\n",
       " 'his',\n",
       " 'how',\n",
       " 'i',\n",
       " 'if',\n",
       " 'in',\n",
       " 'into',\n",
       " 'is',\n",
       " 'isn',\n",
       " \"isn't\",\n",
       " 'it',\n",
       " \"it's\",\n",
       " 'its',\n",
       " 'itself',\n",
       " 'just',\n",
       " 'll',\n",
       " 'm',\n",
       " 'ma',\n",
       " 'me',\n",
       " 'mightn',\n",
       " \"mightn't\",\n",
       " 'more',\n",
       " 'most',\n",
       " 'mustn',\n",
       " \"mustn't\",\n",
       " 'my',\n",
       " 'myself',\n",
       " 'needn',\n",
       " \"needn't\",\n",
       " 'no',\n",
       " 'nor',\n",
       " 'not',\n",
       " 'now',\n",
       " 'o',\n",
       " 'of',\n",
       " 'off',\n",
       " 'on',\n",
       " 'once',\n",
       " 'only',\n",
       " 'or',\n",
       " 'other',\n",
       " 'our',\n",
       " 'ours',\n",
       " 'ourselves',\n",
       " 'out',\n",
       " 'over',\n",
       " 'own',\n",
       " 're',\n",
       " 's',\n",
       " 'same',\n",
       " 'shan',\n",
       " \"shan't\",\n",
       " 'she',\n",
       " \"she's\",\n",
       " 'should',\n",
       " \"should've\",\n",
       " 'shouldn',\n",
       " \"shouldn't\",\n",
       " 'so',\n",
       " 'some',\n",
       " 'such',\n",
       " 't',\n",
       " 'than',\n",
       " 'that',\n",
       " \"that'll\",\n",
       " 'the',\n",
       " 'their',\n",
       " 'theirs',\n",
       " 'them',\n",
       " 'themselves',\n",
       " 'then',\n",
       " 'there',\n",
       " 'these',\n",
       " 'they',\n",
       " 'this',\n",
       " 'those',\n",
       " 'through',\n",
       " 'to',\n",
       " 'too',\n",
       " 'under',\n",
       " 'until',\n",
       " 'up',\n",
       " 've',\n",
       " 'very',\n",
       " 'was',\n",
       " 'wasn',\n",
       " \"wasn't\",\n",
       " 'we',\n",
       " 'were',\n",
       " 'weren',\n",
       " \"weren't\",\n",
       " 'what',\n",
       " 'when',\n",
       " 'where',\n",
       " 'which',\n",
       " 'while',\n",
       " 'who',\n",
       " 'whom',\n",
       " 'why',\n",
       " 'will',\n",
       " 'with',\n",
       " 'won',\n",
       " \"won't\",\n",
       " 'wouldn',\n",
       " \"wouldn't\",\n",
       " 'y',\n",
       " 'you',\n",
       " \"you'd\",\n",
       " \"you'll\",\n",
       " \"you're\",\n",
       " \"you've\",\n",
       " 'your',\n",
       " 'yours',\n",
       " 'yourself',\n",
       " 'yourselves'}"
      ]
     },
     "execution_count": 44,
     "metadata": {},
     "output_type": "execute_result"
    }
   ],
   "source": [
    "stop_word"
   ]
  },
  {
   "cell_type": "code",
   "execution_count": 85,
   "metadata": {},
   "outputs": [
    {
     "data": {
      "text/plain": [
       "{'data',\n",
       " 'great',\n",
       " 'language',\n",
       " 'learning',\n",
       " 'love',\n",
       " 'programming',\n",
       " 'python',\n",
       " 'related',\n",
       " 'science'}"
      ]
     },
     "execution_count": 85,
     "metadata": {},
     "output_type": "execute_result"
    }
   ],
   "source": [
    "def preprocess(lst):\n",
    "#   l = []\n",
    "    w = []\n",
    "    # for j in sentences:\n",
    "    #     l = j.split()\n",
    "    for i in lst:\n",
    "        if i.lower() not in stop_word:\n",
    "            w.append(i)\n",
    "    return set(w)\n",
    "            \n",
    "preprocess(a)"
   ]
  },
  {
   "cell_type": "code",
   "execution_count": null,
   "metadata": {},
   "outputs": [],
   "source": []
  }
 ],
 "metadata": {
  "kernelspec": {
   "display_name": "Python 3",
   "language": "python",
   "name": "python3"
  },
  "language_info": {
   "codemirror_mode": {
    "name": "ipython",
    "version": 3
   },
   "file_extension": ".py",
   "mimetype": "text/x-python",
   "name": "python",
   "nbconvert_exporter": "python",
   "pygments_lexer": "ipython3",
   "version": "3.12.4"
  }
 },
 "nbformat": 4,
 "nbformat_minor": 2
}
