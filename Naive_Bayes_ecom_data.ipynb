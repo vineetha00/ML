{
  "cells": [
    {
      "cell_type": "code",
      "execution_count": 1,
      "metadata": {
        "colab": {
          "base_uri": "https://localhost:8080/"
        },
        "id": "skFAlsGg0d18",
        "outputId": "d62ef1b0-349a-4fb3-bd23-6effd496d5e4"
      },
      "outputs": [],
      "source": [
        "# !pip install nltk"
      ]
    },
    {
      "cell_type": "code",
      "execution_count": 2,
      "metadata": {
        "id": "nSwJtZJfj2-P"
      },
      "outputs": [],
      "source": [
        "import pandas as pd\n",
        "import numpy as np"
      ]
    },
    {
      "cell_type": "code",
      "execution_count": 3,
      "metadata": {
        "colab": {
          "base_uri": "https://localhost:8080/",
          "height": 206
        },
        "id": "4DKv-ktlj5bz",
        "outputId": "bf02a2f4-cbdf-4a7d-b485-476a560fd1d9"
      },
      "outputs": [
        {
          "name": "stderr",
          "output_type": "stream",
          "text": [
            "<>:1: SyntaxWarning: invalid escape sequence '\\P'\n",
            "<>:1: SyntaxWarning: invalid escape sequence '\\P'\n",
            "C:\\Users\\Dell\\AppData\\Local\\Temp\\ipykernel_16640\\2929440702.py:1: SyntaxWarning: invalid escape sequence '\\P'\n",
            "  df = pd.read_csv('E:\\Python\\ML\\Ecommerce_data.csv')\n"
          ]
        },
        {
          "data": {
            "text/html": [
              "<div>\n",
              "<style scoped>\n",
              "    .dataframe tbody tr th:only-of-type {\n",
              "        vertical-align: middle;\n",
              "    }\n",
              "\n",
              "    .dataframe tbody tr th {\n",
              "        vertical-align: top;\n",
              "    }\n",
              "\n",
              "    .dataframe thead th {\n",
              "        text-align: right;\n",
              "    }\n",
              "</style>\n",
              "<table border=\"1\" class=\"dataframe\">\n",
              "  <thead>\n",
              "    <tr style=\"text-align: right;\">\n",
              "      <th></th>\n",
              "      <th>Text</th>\n",
              "      <th>label</th>\n",
              "    </tr>\n",
              "  </thead>\n",
              "  <tbody>\n",
              "    <tr>\n",
              "      <th>0</th>\n",
              "      <td>Urban Ladder Eisner Low Back Study-Office Comp...</td>\n",
              "      <td>Household</td>\n",
              "    </tr>\n",
              "    <tr>\n",
              "      <th>1</th>\n",
              "      <td>Contrast living Wooden Decorative Box,Painted ...</td>\n",
              "      <td>Household</td>\n",
              "    </tr>\n",
              "    <tr>\n",
              "      <th>2</th>\n",
              "      <td>IO Crest SY-PCI40010 PCI RAID Host Controller ...</td>\n",
              "      <td>Electronics</td>\n",
              "    </tr>\n",
              "    <tr>\n",
              "      <th>3</th>\n",
              "      <td>ISAKAA Baby Socks from Just Born to 8 Years- P...</td>\n",
              "      <td>Clothing &amp; Accessories</td>\n",
              "    </tr>\n",
              "    <tr>\n",
              "      <th>4</th>\n",
              "      <td>Indira Designer Women's Art Mysore Silk Saree ...</td>\n",
              "      <td>Clothing &amp; Accessories</td>\n",
              "    </tr>\n",
              "  </tbody>\n",
              "</table>\n",
              "</div>"
            ],
            "text/plain": [
              "                                                Text                   label\n",
              "0  Urban Ladder Eisner Low Back Study-Office Comp...               Household\n",
              "1  Contrast living Wooden Decorative Box,Painted ...               Household\n",
              "2  IO Crest SY-PCI40010 PCI RAID Host Controller ...             Electronics\n",
              "3  ISAKAA Baby Socks from Just Born to 8 Years- P...  Clothing & Accessories\n",
              "4  Indira Designer Women's Art Mysore Silk Saree ...  Clothing & Accessories"
            ]
          },
          "execution_count": 3,
          "metadata": {},
          "output_type": "execute_result"
        }
      ],
      "source": [
        "df = pd.read_csv('E:\\Python\\ML\\Ecommerce_data.csv')\n",
        "df.head(5)"
      ]
    },
    {
      "cell_type": "markdown",
      "metadata": {
        "id": "pNWcoh_Yxhb8"
      },
      "source": [
        "# Convert to lower case\n",
        "# Remove stopping words and punctuation"
      ]
    },
    {
      "cell_type": "code",
      "execution_count": 4,
      "metadata": {
        "id": "NH9EGEiGk_74"
      },
      "outputs": [],
      "source": [
        "sentences=[\n",
        "    'python is a great programming language',\n",
        "    'I love learning programming in python',\n",
        "    'data science and python programming are related'\n",
        "]"
      ]
    },
    {
      "cell_type": "code",
      "execution_count": 5,
      "metadata": {
        "colab": {
          "base_uri": "https://localhost:8080/",
          "height": 241
        },
        "id": "Ia2SDsgwlotl",
        "outputId": "898c3e1d-8641-413a-efe6-c72f030d1376"
      },
      "outputs": [
        {
          "data": {
            "text/plain": [
              "label\n",
              "Household                 6000\n",
              "Electronics               6000\n",
              "Clothing & Accessories    6000\n",
              "Books                     6000\n",
              "Name: count, dtype: int64"
            ]
          },
          "execution_count": 5,
          "metadata": {},
          "output_type": "execute_result"
        }
      ],
      "source": [
        "df['label'].value_counts()"
      ]
    },
    {
      "cell_type": "code",
      "execution_count": 6,
      "metadata": {
        "colab": {
          "base_uri": "https://localhost:8080/",
          "height": 206
        },
        "id": "P-F6yH_gltsC",
        "outputId": "dfb4fabf-ed30-4898-bdb9-f1ff02777a78"
      },
      "outputs": [
        {
          "data": {
            "text/html": [
              "<div>\n",
              "<style scoped>\n",
              "    .dataframe tbody tr th:only-of-type {\n",
              "        vertical-align: middle;\n",
              "    }\n",
              "\n",
              "    .dataframe tbody tr th {\n",
              "        vertical-align: top;\n",
              "    }\n",
              "\n",
              "    .dataframe thead th {\n",
              "        text-align: right;\n",
              "    }\n",
              "</style>\n",
              "<table border=\"1\" class=\"dataframe\">\n",
              "  <thead>\n",
              "    <tr style=\"text-align: right;\">\n",
              "      <th></th>\n",
              "      <th>Text</th>\n",
              "      <th>label</th>\n",
              "      <th>label_encode</th>\n",
              "    </tr>\n",
              "  </thead>\n",
              "  <tbody>\n",
              "    <tr>\n",
              "      <th>0</th>\n",
              "      <td>Urban Ladder Eisner Low Back Study-Office Comp...</td>\n",
              "      <td>Household</td>\n",
              "      <td>0</td>\n",
              "    </tr>\n",
              "    <tr>\n",
              "      <th>1</th>\n",
              "      <td>Contrast living Wooden Decorative Box,Painted ...</td>\n",
              "      <td>Household</td>\n",
              "      <td>0</td>\n",
              "    </tr>\n",
              "    <tr>\n",
              "      <th>2</th>\n",
              "      <td>IO Crest SY-PCI40010 PCI RAID Host Controller ...</td>\n",
              "      <td>Electronics</td>\n",
              "      <td>1</td>\n",
              "    </tr>\n",
              "    <tr>\n",
              "      <th>3</th>\n",
              "      <td>ISAKAA Baby Socks from Just Born to 8 Years- P...</td>\n",
              "      <td>Clothing &amp; Accessories</td>\n",
              "      <td>2</td>\n",
              "    </tr>\n",
              "    <tr>\n",
              "      <th>4</th>\n",
              "      <td>Indira Designer Women's Art Mysore Silk Saree ...</td>\n",
              "      <td>Clothing &amp; Accessories</td>\n",
              "      <td>2</td>\n",
              "    </tr>\n",
              "  </tbody>\n",
              "</table>\n",
              "</div>"
            ],
            "text/plain": [
              "                                                Text                   label  \\\n",
              "0  Urban Ladder Eisner Low Back Study-Office Comp...               Household   \n",
              "1  Contrast living Wooden Decorative Box,Painted ...               Household   \n",
              "2  IO Crest SY-PCI40010 PCI RAID Host Controller ...             Electronics   \n",
              "3  ISAKAA Baby Socks from Just Born to 8 Years- P...  Clothing & Accessories   \n",
              "4  Indira Designer Women's Art Mysore Silk Saree ...  Clothing & Accessories   \n",
              "\n",
              "   label_encode  \n",
              "0             0  \n",
              "1             0  \n",
              "2             1  \n",
              "3             2  \n",
              "4             2  "
            ]
          },
          "execution_count": 6,
          "metadata": {},
          "output_type": "execute_result"
        }
      ],
      "source": [
        "label ={'Household' :0 , 'Electronics':1, 'Clothing & Accessories':2, 'Books':3}\n",
        "df['label_encode']=df['label'].map(label)\n",
        "df.head(5)"
      ]
    },
    {
      "cell_type": "code",
      "execution_count": 7,
      "metadata": {
        "colab": {
          "base_uri": "https://localhost:8080/"
        },
        "id": "Seu2rZh8mKjt",
        "outputId": "1e6a3699-57d2-4937-9981-114f6cdf70e7"
      },
      "outputs": [
        {
          "data": {
            "text/plain": [
              "array([[0.        , 0.        , 0.        , 0.52004008, 0.        ,\n",
              "        0.52004008, 0.52004008, 0.        , 0.        , 0.30714405,\n",
              "        0.30714405, 0.        , 0.        ],\n",
              "       [0.        , 0.        , 0.        , 0.        , 0.52004008,\n",
              "        0.        , 0.        , 0.52004008, 0.52004008, 0.30714405,\n",
              "        0.30714405, 0.        , 0.        ],\n",
              "       [0.4189401 , 0.4189401 , 0.4189401 , 0.        , 0.        ,\n",
              "        0.        , 0.        , 0.        , 0.        , 0.24743277,\n",
              "        0.24743277, 0.4189401 , 0.4189401 ]])"
            ]
          },
          "execution_count": 7,
          "metadata": {},
          "output_type": "execute_result"
        }
      ],
      "source": [
        "from sklearn.feature_extraction.text import TfidfVectorizer\n",
        "vectorizer = TfidfVectorizer()\n",
        "tfdif_matrix= vectorizer.fit_transform(sentences)\n",
        "tfidf_array=tfdif_matrix.toarray()\n",
        "tfidf_array\n",
        "# 3 sentences X 13 unique keywords matrix\n",
        "# Each word becomes feature columns\n",
        "#X = vectorizer.fit_transform(df['Text'])\n",
        "#y = df['label_encode']\n",
        "# Term Frequency , Inverse document Frequency"
      ]
    },
    {
      "cell_type": "code",
      "execution_count": 8,
      "metadata": {
        "id": "rK8Ft3weocY3"
      },
      "outputs": [],
      "source": [
        "features=vectorizer.get_feature_names_out()"
      ]
    },
    {
      "cell_type": "code",
      "execution_count": 9,
      "metadata": {
        "colab": {
          "base_uri": "https://localhost:8080/"
        },
        "id": "ToG5ItAFoc1P",
        "outputId": "5790552b-a4ba-4566-bed0-e71e2b054ec5"
      },
      "outputs": [
        {
          "name": "stdout",
          "output_type": "stream",
          "text": [
            "1 : python is a great programming language\n",
            "TF-IDF scores\n",
            "and : 0.0\n",
            "are : 0.0\n",
            "data : 0.0\n",
            "great : 0.5200400832078022\n",
            "in : 0.0\n",
            "is : 0.5200400832078022\n",
            "language : 0.5200400832078022\n",
            "learning : 0.0\n",
            "love : 0.0\n",
            "programming : 0.3071440505460478\n",
            "python : 0.3071440505460478\n",
            "related : 0.0\n",
            "science : 0.0\n",
            "\n",
            "2 : I love learning programming in python\n",
            "TF-IDF scores\n",
            "and : 0.0\n",
            "are : 0.0\n",
            "data : 0.0\n",
            "great : 0.0\n",
            "in : 0.5200400832078022\n",
            "is : 0.0\n",
            "language : 0.0\n",
            "learning : 0.5200400832078022\n",
            "love : 0.5200400832078022\n",
            "programming : 0.3071440505460478\n",
            "python : 0.3071440505460478\n",
            "related : 0.0\n",
            "science : 0.0\n",
            "\n",
            "3 : data science and python programming are related\n",
            "TF-IDF scores\n",
            "and : 0.4189401020758947\n",
            "are : 0.4189401020758947\n",
            "data : 0.4189401020758947\n",
            "great : 0.0\n",
            "in : 0.0\n",
            "is : 0.0\n",
            "language : 0.0\n",
            "learning : 0.0\n",
            "love : 0.0\n",
            "programming : 0.24743277305481848\n",
            "python : 0.24743277305481848\n",
            "related : 0.4189401020758947\n",
            "science : 0.4189401020758947\n",
            "\n"
          ]
        }
      ],
      "source": [
        "for i, sentences in enumerate(sentences):\n",
        "  print(f'{i+1} : {sentences}')\n",
        "  print('TF-IDF scores')\n",
        "  for word, score in zip(features, tfidf_array[i]):\n",
        "    print(f'{word} : {score}')\n",
        "  print()"
      ]
    },
    {
      "cell_type": "code",
      "execution_count": 10,
      "metadata": {
        "colab": {
          "base_uri": "https://localhost:8080/",
          "height": 206
        },
        "id": "EgV28y_IyC_7",
        "outputId": "d73e4753-21e8-49e9-9ab3-b2044a0e14e6"
      },
      "outputs": [
        {
          "data": {
            "text/html": [
              "<div>\n",
              "<style scoped>\n",
              "    .dataframe tbody tr th:only-of-type {\n",
              "        vertical-align: middle;\n",
              "    }\n",
              "\n",
              "    .dataframe tbody tr th {\n",
              "        vertical-align: top;\n",
              "    }\n",
              "\n",
              "    .dataframe thead th {\n",
              "        text-align: right;\n",
              "    }\n",
              "</style>\n",
              "<table border=\"1\" class=\"dataframe\">\n",
              "  <thead>\n",
              "    <tr style=\"text-align: right;\">\n",
              "      <th></th>\n",
              "      <th>Text</th>\n",
              "      <th>label</th>\n",
              "      <th>label_encode</th>\n",
              "    </tr>\n",
              "  </thead>\n",
              "  <tbody>\n",
              "    <tr>\n",
              "      <th>0</th>\n",
              "      <td>urban ladder eisner low back studyoffice compu...</td>\n",
              "      <td>Household</td>\n",
              "      <td>0</td>\n",
              "    </tr>\n",
              "    <tr>\n",
              "      <th>1</th>\n",
              "      <td>contrast living wooden decorative boxpainted b...</td>\n",
              "      <td>Household</td>\n",
              "      <td>0</td>\n",
              "    </tr>\n",
              "    <tr>\n",
              "      <th>2</th>\n",
              "      <td>io crest sypci40010 pci raid host controller c...</td>\n",
              "      <td>Electronics</td>\n",
              "      <td>1</td>\n",
              "    </tr>\n",
              "    <tr>\n",
              "      <th>3</th>\n",
              "      <td>isakaa baby socks from just born to 8 years pa...</td>\n",
              "      <td>Clothing &amp; Accessories</td>\n",
              "      <td>2</td>\n",
              "    </tr>\n",
              "    <tr>\n",
              "      <th>4</th>\n",
              "      <td>indira designer womens art mysore silk saree w...</td>\n",
              "      <td>Clothing &amp; Accessories</td>\n",
              "      <td>2</td>\n",
              "    </tr>\n",
              "  </tbody>\n",
              "</table>\n",
              "</div>"
            ],
            "text/plain": [
              "                                                Text                   label  \\\n",
              "0  urban ladder eisner low back studyoffice compu...               Household   \n",
              "1  contrast living wooden decorative boxpainted b...               Household   \n",
              "2  io crest sypci40010 pci raid host controller c...             Electronics   \n",
              "3  isakaa baby socks from just born to 8 years pa...  Clothing & Accessories   \n",
              "4  indira designer womens art mysore silk saree w...  Clothing & Accessories   \n",
              "\n",
              "   label_encode  \n",
              "0             0  \n",
              "1             0  \n",
              "2             1  \n",
              "3             2  \n",
              "4             2  "
            ]
          },
          "execution_count": 10,
          "metadata": {},
          "output_type": "execute_result"
        }
      ],
      "source": [
        "import string\n",
        "df['Text']=df['Text'].map(lambda sentence: sentence.lower().translate(str.maketrans('', '', string.punctuation)))\n",
        "df.head(5)"
      ]
    },
    {
      "cell_type": "code",
      "execution_count": 11,
      "metadata": {
        "colab": {
          "base_uri": "https://localhost:8080/"
        },
        "id": "rpL-XJgJyT39",
        "outputId": "d5b9b229-962f-4d4d-fece-db1a82a82c88"
      },
      "outputs": [
        {
          "name": "stderr",
          "output_type": "stream",
          "text": [
            "[nltk_data] Downloading package stopwords to\n",
            "[nltk_data]     C:\\Users\\Dell\\AppData\\Roaming\\nltk_data...\n",
            "[nltk_data]   Package stopwords is already up-to-date!\n"
          ]
        },
        {
          "data": {
            "text/plain": [
              "True"
            ]
          },
          "execution_count": 11,
          "metadata": {},
          "output_type": "execute_result"
        }
      ],
      "source": [
        "import nltk\n",
        "nltk.download('stopwords')\n"
      ]
    },
    {
      "cell_type": "code",
      "execution_count": 12,
      "metadata": {
        "id": "7_MZJOh00PBL"
      },
      "outputs": [],
      "source": [
        "stop_words=nltk.corpus.stopwords.words('english')\n"
      ]
    },
    {
      "cell_type": "code",
      "execution_count": 13,
      "metadata": {
        "id": "0fEdJ0XV0cfm"
      },
      "outputs": [],
      "source": [
        "#[ var for var in iterable if condition: statement]\n",
        "def prepocessing(sentence):\n",
        "  words=sentence.split()\n",
        "  filtered_tokens=[word for word in words if word not in stop_words]\n",
        "  return ' '.join(filtered_tokens)"
      ]
    },
    {
      "cell_type": "code",
      "execution_count": 14,
      "metadata": {
        "colab": {
          "base_uri": "https://localhost:8080/",
          "height": 206
        },
        "id": "1DTVPvsY2nhE",
        "outputId": "3e6adb92-a50e-439b-99e6-138f3b59e7c6"
      },
      "outputs": [
        {
          "data": {
            "text/html": [
              "<div>\n",
              "<style scoped>\n",
              "    .dataframe tbody tr th:only-of-type {\n",
              "        vertical-align: middle;\n",
              "    }\n",
              "\n",
              "    .dataframe tbody tr th {\n",
              "        vertical-align: top;\n",
              "    }\n",
              "\n",
              "    .dataframe thead th {\n",
              "        text-align: right;\n",
              "    }\n",
              "</style>\n",
              "<table border=\"1\" class=\"dataframe\">\n",
              "  <thead>\n",
              "    <tr style=\"text-align: right;\">\n",
              "      <th></th>\n",
              "      <th>Text</th>\n",
              "      <th>label</th>\n",
              "      <th>label_encode</th>\n",
              "      <th>Filtered_tokens</th>\n",
              "    </tr>\n",
              "  </thead>\n",
              "  <tbody>\n",
              "    <tr>\n",
              "      <th>0</th>\n",
              "      <td>urban ladder eisner low back studyoffice compu...</td>\n",
              "      <td>Household</td>\n",
              "      <td>0</td>\n",
              "      <td>urban ladder eisner low back studyoffice compu...</td>\n",
              "    </tr>\n",
              "    <tr>\n",
              "      <th>1</th>\n",
              "      <td>contrast living wooden decorative boxpainted b...</td>\n",
              "      <td>Household</td>\n",
              "      <td>0</td>\n",
              "      <td>contrast living wooden decorative boxpainted b...</td>\n",
              "    </tr>\n",
              "    <tr>\n",
              "      <th>2</th>\n",
              "      <td>io crest sypci40010 pci raid host controller c...</td>\n",
              "      <td>Electronics</td>\n",
              "      <td>1</td>\n",
              "      <td>io crest sypci40010 pci raid host controller c...</td>\n",
              "    </tr>\n",
              "    <tr>\n",
              "      <th>3</th>\n",
              "      <td>isakaa baby socks from just born to 8 years pa...</td>\n",
              "      <td>Clothing &amp; Accessories</td>\n",
              "      <td>2</td>\n",
              "      <td>isakaa baby socks born 8 years pack 4 6 8 12 i...</td>\n",
              "    </tr>\n",
              "    <tr>\n",
              "      <th>4</th>\n",
              "      <td>indira designer womens art mysore silk saree w...</td>\n",
              "      <td>Clothing &amp; Accessories</td>\n",
              "      <td>2</td>\n",
              "      <td>indira designer womens art mysore silk saree b...</td>\n",
              "    </tr>\n",
              "  </tbody>\n",
              "</table>\n",
              "</div>"
            ],
            "text/plain": [
              "                                                Text                   label  \\\n",
              "0  urban ladder eisner low back studyoffice compu...               Household   \n",
              "1  contrast living wooden decorative boxpainted b...               Household   \n",
              "2  io crest sypci40010 pci raid host controller c...             Electronics   \n",
              "3  isakaa baby socks from just born to 8 years pa...  Clothing & Accessories   \n",
              "4  indira designer womens art mysore silk saree w...  Clothing & Accessories   \n",
              "\n",
              "   label_encode                                    Filtered_tokens  \n",
              "0             0  urban ladder eisner low back studyoffice compu...  \n",
              "1             0  contrast living wooden decorative boxpainted b...  \n",
              "2             1  io crest sypci40010 pci raid host controller c...  \n",
              "3             2  isakaa baby socks born 8 years pack 4 6 8 12 i...  \n",
              "4             2  indira designer womens art mysore silk saree b...  "
            ]
          },
          "execution_count": 14,
          "metadata": {},
          "output_type": "execute_result"
        }
      ],
      "source": [
        "df['Filtered_tokens']=df['Text'].map(prepocessing)\n",
        "df.head(5)"
      ]
    },
    {
      "cell_type": "code",
      "execution_count": 15,
      "metadata": {
        "colab": {
          "base_uri": "https://localhost:8080/"
        },
        "id": "f4JWf3YwOiVy",
        "outputId": "55cbb3e8-1f85-4653-bfb8-b0b4125f9fe6"
      },
      "outputs": [],
      "source": [
        "from sklearn.feature_extraction.text import TfidfVectorizer\n",
        "# vectorizer = TfidfVectorizer()\n",
        "# tfdif_matrix= vectorizer.fit_transform(df['Filtered_tokens'])\n",
        "# tfidf_array=tfdif_matrix.toarray()\n",
        "# # tfidf_array"
      ]
    },
    {
      "cell_type": "code",
      "execution_count": 16,
      "metadata": {},
      "outputs": [],
      "source": [
        "from sklearn.model_selection import train_test_split\n",
        "X = df['Filtered_tokens']\n",
        "Y= df['label_encode']\n",
        "X_train,X_test,Y_train,Y_test = train_test_split(X,Y,test_size=0.2)"
      ]
    },
    {
      "cell_type": "code",
      "execution_count": 17,
      "metadata": {},
      "outputs": [
        {
          "name": "stdout",
          "output_type": "stream",
          "text": [
            "0.9635416666666666\n",
            "[[1154   16   14   10]\n",
            " [  20 1200    1    8]\n",
            " [   8    7 1171    4]\n",
            " [  50   22   15 1100]]\n",
            "              precision    recall  f1-score   support\n",
            "\n",
            "           0       0.94      0.97      0.95      1194\n",
            "           1       0.96      0.98      0.97      1229\n",
            "           2       0.98      0.98      0.98      1190\n",
            "           3       0.98      0.93      0.95      1187\n",
            "\n",
            "    accuracy                           0.96      4800\n",
            "   macro avg       0.96      0.96      0.96      4800\n",
            "weighted avg       0.96      0.96      0.96      4800\n",
            "\n"
          ]
        }
      ],
      "source": [
        "from sklearn.model_selection import train_test_split\n",
        "from sklearn.naive_bayes import MultinomialNB\n",
        "from sklearn.metrics import classification_report, accuracy_score,confusion_matrix\n",
        "vectorizer = TfidfVectorizer()\n",
        "X_train_pre = vectorizer.fit_transform(X_train)\n",
        "X_test_pre = vectorizer.transform(X_test)\n",
        "clf = MultinomialNB()\n",
        "clf.fit(X_train_pre,Y_train)\n",
        "y_pred = clf.predict(X_test_pre)\n",
        "print(accuracy_score(Y_test,y_pred))\n",
        "print(confusion_matrix(Y_test,y_pred))\n",
        "print(classification_report(Y_test,y_pred))"
      ]
    },
    {
      "cell_type": "code",
      "execution_count": 18,
      "metadata": {},
      "outputs": [
        {
          "data": {
            "text/plain": [
              "array([[ 0.87668, -0.25452],\n",
              "       [-1.91597, -0.10605],\n",
              "       [ 1.04636,  0.3535 ]])"
            ]
          },
          "execution_count": 18,
          "metadata": {},
          "output_type": "execute_result"
        }
      ],
      "source": [
        "a = np.array([[0.8,0.44],[-1.28,-1.43],[0.49,0.99]])\n",
        "b = np.array([[0.707,-0.707],[0.707,0.707]])\n",
        "zp = np.dot(a,b)\n",
        "zp"
      ]
    },
    {
      "cell_type": "code",
      "execution_count": null,
      "metadata": {},
      "outputs": [],
      "source": []
    }
  ],
  "metadata": {
    "colab": {
      "provenance": []
    },
    "kernelspec": {
      "display_name": "Python 3",
      "name": "python3"
    },
    "language_info": {
      "codemirror_mode": {
        "name": "ipython",
        "version": 3
      },
      "file_extension": ".py",
      "mimetype": "text/x-python",
      "name": "python",
      "nbconvert_exporter": "python",
      "pygments_lexer": "ipython3",
      "version": "3.12.4"
    }
  },
  "nbformat": 4,
  "nbformat_minor": 0
}
